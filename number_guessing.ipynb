{
 "cells": [
  {
   "cell_type": "code",
   "execution_count": null,
   "metadata": {},
   "outputs": [
    {
     "name": "stdout",
     "output_type": "stream",
     "text": [
      "enter your guess : 3\n",
      "wrong guess\n",
      "Your have 2 lives left\n",
      "Your Hint : \n",
      "Chances are it is a prime number\n",
      ">>>>>>>>>>>>>>>>>>>>>>>\n",
      "enter your guess again : 1\n",
      "Correct guess\n",
      "/////////////\n",
      "Play again\n",
      "----------------------------------------\n",
      "wrong guess\n",
      "Your have 2 lives left\n",
      "Your Hint : \n",
      "it is divisible by 2 and mulitples of 2\n",
      ">>>>>>>>>>>>>>>>>>>>>>>\n"
     ]
    }
   ],
   "source": [
    "import random\n",
    "import os\n",
    "import sys\n",
    "\n",
    "user_guess = int(input(\"enter your guess : \"))\n",
    "\n",
    "def random_num_generator(guess):\n",
    "    life = 3\n",
    "    global random_number\n",
    "    random_number = random.randrange(0,10)\n",
    "   \n",
    "    \n",
    "    \n",
    "    for i in range(life):\n",
    "        if random_number == guess:\n",
    "            print(\"Correct guess\")\n",
    "            print(\"/////////////\")\n",
    "            print(\"Play again\")\n",
    "            print(\"----------------------------------------\")\n",
    "            break\n",
    "        else:\n",
    "            print(\"wrong guess\")\n",
    "            life -= 1\n",
    "            print(\"Your have {} lives left\".format(life))\n",
    "            Hint()\n",
    "            if life != 0:\n",
    "                guess = int(input(\"enter your guess again : \"))\n",
    "            else:\n",
    "                print(\"Try Again\")\n",
    "                print(\"Correct answer is : \", random_number)\n",
    "                print(\"-------------------------------------------------------------\")\n",
    "                break                \n",
    "            \n",
    "def Hint():\n",
    "    print(\"Your Hint : \")\n",
    "    if random_number % 2== 0:\n",
    "        print(\"it is divisible by 2 and mulitples of 2\")\n",
    "        print(\">>>>>>>>>>>>>>>>>>>>>>>\")\n",
    "    elif random_number % 3 == 0:\n",
    "        print(\"it is divisible by 3 and multiples of 3\")\n",
    "        print(\">>>>>>>>>>>>>>>>>>>>>>>\")\n",
    "    elif random_number % 5 == 0:\n",
    "        print(\"it is divisible by 5 and muliples of 5 only\")\n",
    "        print(\">>>>>>>>>>>>>>>>>>>>>>>\")\n",
    "    else:\n",
    "        print(\"Chances are it is a prime number\")\n",
    "        print(\">>>>>>>>>>>>>>>>>>>>>>>\")\n",
    "    \n",
    "        \n",
    "    \n",
    "    \n",
    "    \n",
    "   \n",
    "    \n",
    "while True:\n",
    "    random_num_generator(user_guess)\n",
    "    \n",
    "\n",
    "    "
   ]
  },
  {
   "cell_type": "code",
   "execution_count": null,
   "metadata": {},
   "outputs": [],
   "source": []
  },
  {
   "cell_type": "code",
   "execution_count": null,
   "metadata": {},
   "outputs": [],
   "source": []
  }
 ],
 "metadata": {
  "kernelspec": {
   "display_name": "Python 3",
   "language": "python",
   "name": "python3"
  },
  "language_info": {
   "codemirror_mode": {
    "name": "ipython",
    "version": 3
   },
   "file_extension": ".py",
   "mimetype": "text/x-python",
   "name": "python",
   "nbconvert_exporter": "python",
   "pygments_lexer": "ipython3",
   "version": "3.8.3"
  }
 },
 "nbformat": 4,
 "nbformat_minor": 4
}
